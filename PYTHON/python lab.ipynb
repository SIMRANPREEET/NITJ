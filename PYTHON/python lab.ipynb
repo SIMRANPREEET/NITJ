{
 "cells": [
  {
   "cell_type": "code",
   "execution_count": null,
   "metadata": {},
   "outputs": [
    {
     "name": "stdout",
     "output_type": "stream",
     "text": [
      "Power result: 9\n",
      "Final result: 45\n"
     ]
    }
   ],
   "source": [
    "def power_function(exponent):\n",
    "    # Function to calculate power\n",
    "    def calculate_power(base):\n",
    "        result = base ** exponent\n",
    "        print(f\"Power result: {result}\")  # Print intermediate result\n",
    "        \n",
    "        # Function to multiply the result by a constant\n",
    "        def multiply_by_constant(constant):\n",
    "            final_result = result * constant\n",
    "            return final_result\n",
    "        \n",
    "        return multiply_by_constant  # Return the inner function\n",
    "    \n",
    "    return calculate_power\n",
    "\n",
    "power_of_2 = power_function(2)  # Create a function to compute square\n",
    "multiply_result = power_of_2(3)  # Calculate 3^2\n",
    "final_result = multiply_result(5)  # Multiply the result (9) by 5\n",
    "\n",
    "print(\"Final result:\", final_result)\n",
    "\n"
   ]
  },
  {
   "cell_type": "code",
   "execution_count": 16,
   "metadata": {},
   "outputs": [
    {
     "name": "stdout",
     "output_type": "stream",
     "text": [
      "a3b2c2\n",
      "\n",
      "a3b4c2\n"
     ]
    }
   ],
   "source": [
    "def compress_string(s):\n",
    "    # Check for an empty string\n",
    "    if not s:\n",
    "        return \"\"\n",
    "    \n",
    "    compressed = []  # List to store compressed characters and counts\n",
    "    count = 1  \n",
    "    \n",
    "    # Loop through the string\n",
    "    for i in range(1, len(s)):\n",
    "        if s[i] == s[i-1]:  # If current char is the same as previous, increment count\n",
    "            count += 1\n",
    "        else:\n",
    "            compressed.append(s[i-1] + (str(count) if count > 1 else \"\"))\n",
    "            count = 1  # Reset count for new character\n",
    "    \n",
    "    # Append the last character and its count\n",
    "    compressed.append(s[-1] + (str(count) if count > 1 else \"\"))\n",
    "    \n",
    "    return \"\".join(compressed)  # Join list to form final compressed string\n",
    "\n",
    "print(compress_string(\"aaabbcc\"))  # Output: a3b2c2\n",
    "\n",
    "print(compress_string(\"\"))         # Output: (empty string)\n",
    "\n",
    "print(compress_string(\"aaabbbbcc\"))# Output: a3b4c2\n"
   ]
  },
  {
   "cell_type": "code",
   "execution_count": 1,
   "metadata": {},
   "outputs": [
    {
     "name": "stdout",
     "output_type": "stream",
     "text": [
      "Flight AI123: delhi -> hyderabad\n",
      "Capacity: 150, Booked: 0, Available: 150\n",
      "Booked 5 seat(s) successfully.\n",
      "Available seats: 145\n"
     ]
    }
   ],
   "source": [
    "class Flight:\n",
    "    def __init__(self, flight_no, source, destination, capacity):\n",
    "        self.flight_no = flight_no\n",
    "        self.source = source\n",
    "        self.destination = destination\n",
    "        self.capacity = capacity\n",
    "        self.booked_seats = 0\n",
    "\n",
    "    def book_ticket(self, num_seats=1):\n",
    "        available_seats = self.capacity - self.booked_seats\n",
    "        if num_seats <= available_seats:\n",
    "            self.booked_seats += num_seats\n",
    "            print(f\"Booked {num_seats} seat(s) successfully.\")\n",
    "        else:\n",
    "            print(f\"Booking failed! Only {available_seats} seat(s) available.\")\n",
    "\n",
    "    def cancel_ticket(self, num_seats=1):\n",
    "        \"\"\"Cancel tickets if booked seats allow.\"\"\"\n",
    "        if num_seats <= self.booked_seats:\n",
    "            self.booked_seats -= num_seats\n",
    "            print(f\"Canceled {num_seats} seat(s) successfully.\")\n",
    "        else:\n",
    "            print(f\"Cancellation failed! Only {self.booked_seats} seat(s) booked.\")\n",
    "\n",
    "    def display_available_seats(self):\n",
    "        \n",
    "        print(f\"Available seats: {self.capacity - self.booked_seats}\")\n",
    "\n",
    "    def display_flight_info(self):\n",
    "    \n",
    "        print(f\"Flight {self.flight_no}: {self.source} -> {self.destination}\")\n",
    "        print(f\"Capacity: {self.capacity}, Booked: {self.booked_seats}, Available: {self.capacity - self.booked_seats}\")\n",
    "\n",
    "\n",
    "\n",
    "flight1 = Flight(\"AI123\", \"delhi\", \"hyderabad\", 150)\n",
    "flight1.display_flight_info()\n",
    "flight1.book_ticket(5)\n",
    "flight1.display_available_seats()\n",
    "\n"
   ]
  }
 ],
 "metadata": {
  "kernelspec": {
   "display_name": "Python 3",
   "language": "python",
   "name": "python3"
  },
  "language_info": {
   "codemirror_mode": {
    "name": "ipython",
    "version": 3
   },
   "file_extension": ".py",
   "mimetype": "text/x-python",
   "name": "python",
   "nbconvert_exporter": "python",
   "pygments_lexer": "ipython3",
   "version": "3.12.6"
  }
 },
 "nbformat": 4,
 "nbformat_minor": 2
}
